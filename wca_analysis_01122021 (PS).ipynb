{
 "cells": [
  {
   "cell_type": "markdown",
   "metadata": {},
   "source": [
    "# RUBIK'S CUBE COMPETITIONS ANALYSIS"
   ]
  },
  {
   "cell_type": "markdown",
   "metadata": {},
   "source": [
    "The goal of this notebook is to perform exploratory analysis, and answer some questions about the\n",
    "World Cube Association's database. We will do this by querying the database using SQL, followed by analysis\n",
    "and visualization with common python libraries (Pandas, Plotly)"
   ]
  },
  {
   "cell_type": "markdown",
   "metadata": {},
   "source": [
    "Let's import the necessary libraries!"
   ]
  },
  {
   "cell_type": "code",
   "execution_count": 1,
   "metadata": {},
   "outputs": [],
   "source": [
    "import mysql.connector\n",
    "import pandas as pd\n",
    "import plotly.express as px\n",
    "import plotly.graph_objects as go\n",
    "import datetime\n",
    "from plotly.subplots import make_subplots\n",
    "import seaborn as sns\n",
    "import matplotlib\n",
    "from matplotlib import pyplot as plt"
   ]
  },
  {
   "cell_type": "markdown",
   "metadata": {},
   "source": [
    "Now let's establish a connection to the local database \"wca_results\" (updated as of 01/10/2021)"
   ]
  },
  {
   "cell_type": "code",
   "execution_count": 2,
   "metadata": {},
   "outputs": [],
   "source": [
    "wca_db = mysql.connector.connect(\n",
    "  host=\"localhost\",\n",
    "  user=\"root\",\n",
    "  password=\"1234\",\n",
    "  database=\"wca_results\",\n",
    ")"
   ]
  },
  {
   "cell_type": "markdown",
   "metadata": {},
   "source": [
    "And let's take a look at our tables:"
   ]
  },
  {
   "cell_type": "code",
   "execution_count": 3,
   "metadata": {},
   "outputs": [
    {
     "name": "stdout",
     "output_type": "stream",
     "text": [
      "There are 475 rows in championships\n",
      "There are 7243 rows in competitions\n",
      "There are 7 rows in continents\n",
      "There are 207 rows in countries\n",
      "There are 4 rows in eligible_country_iso2s_for_championship\n",
      "There are 21 rows in events\n",
      "There are 5 rows in formats\n",
      "There are 149383 rows in persons\n",
      "There are 433773 rows in ranksaverage\n",
      "There are 503681 rows in rankssingle\n",
      "There are 2649564 rows in results\n",
      "There are 1 rows in rounds\n",
      "There are 11 rows in roundtypes\n",
      "There are 1199659 rows in scrambles\n"
     ]
    }
   ],
   "source": [
    "wca_tables = pd.read_sql('SHOW TABLES', con=wca_db)\n",
    "\n",
    "for i in wca_tables['Tables_in_wca_results']:\n",
    "    query = 'select count(*) from ' + i\n",
    "    j = pd.read_sql(query, con=wca_db)\n",
    "    print('There are ' + str(j['count(*)'][0]) + ' rows in ' + str(i))"
   ]
  },
  {
   "cell_type": "markdown",
   "metadata": {},
   "source": [
    "Awesome! So we have a handful of tables, the most extensive of which are (perhaps unsurprisingly) RESULTS and SCRAMBLES.\n",
    "From the database structure alone, I'm tipped off to joining continents/events/formats/persons to likely the RESULTS table,\n",
    "as these carry necessary information about each round, event, competitor, etc."
   ]
  },
  {
   "cell_type": "markdown",
   "metadata": {},
   "source": [
    "Let's consider some intriguing questions we could answer, using this database:<br>\n",
    "<ol>\n",
    "    <li>What is the fastest solve time to date in each event?</li>\n",
    "<!--     <li>What is the history of fastest solve times to date in each event?</li> -->\n",
    "    <li>Which countries host the most WCA competitions?</li>\n",
    "    <li>Are these the same countries who produce the best competitors? Who are the most prolific 'winners' in WCA history?</li>\n",
    "    <li>Who are the most prolific 3x3x3 'winners' in WCA history?</li>\n",
    "    <li>Progression of 3x3x3 champion solve times over time</li>\n",
    "</ol>"
   ]
  },
  {
   "cell_type": "markdown",
   "metadata": {},
   "source": [
    "So, let's write some queries and answer these questions! "
   ]
  },
  {
   "cell_type": "markdown",
   "metadata": {},
   "source": [
    "First, let's find out the fastest solve-times in each event across all competitions:<br>\n",
    "*Note: 'best' has negative values we need to account for, as well as eventId's '333mbf' and '333mbo' and '333fm'*"
   ]
  },
  {
   "cell_type": "code",
   "execution_count": 4,
   "metadata": {},
   "outputs": [
    {
     "name": "stdout",
     "output_type": "stream",
     "text": [
      "            Person name    personId eventId   best  best (in seconds)\n",
      "3     Maciej Czapiewski  2014CZAP01     222     49               0.49\n",
      "1          Yuxuan Wang   2009WANG13   magic     69               0.69\n",
      "4         Dominik Górny  2015GORN01   pyram     91               0.91\n",
      "8          Andrew Huang  2016HUAN43   skewb     93               0.93\n",
      "6        Suen Ming Chi   2017CHIS02   clock    329               3.29\n",
      "5           Yusheng Du   2015DUYU01     333    347               3.47\n",
      "20  Martin Vædele Egdal  2013EGDA02     sq1    459               4.59\n",
      "12             Max Park  2012PARK03   333oh    682               6.82\n",
      "9          Max Hilliard  2015HILL09   333bf   1550              15.50\n",
      "11      Sebastian Weyer  2010WEYE02     444   1742              17.42\n",
      "16   Juan Pablo Huanqui  2013HUAN30    minx   2722              27.22\n",
      "18             Max Park  2012PARK03     555   3492              34.92\n",
      "14       Stanley Chapel  2016CHAP04   444bf   6251              62.51\n",
      "19             Max Park  2012PARK03     666   6951              69.51\n",
      "10             Max Park  2012PARK03     777  10089             100.89\n",
      "15       Stanley Chapel  2016CHAP04   555bf  14162             141.62\n"
     ]
    }
   ],
   "source": [
    "fastest_each_event_query_text = '''\n",
    "\n",
    "    select f.personName, f.personId, f.eventId, f.best\n",
    "    from (\n",
    "       select eventId, min(best) as minbest\n",
    "       from results \n",
    "       where best > 0\n",
    "       group by eventId\n",
    "    ) as x inner join results as f on f.eventId = x.eventId and f.best = x.minbest;\n",
    "    \n",
    "'''\n",
    "\n",
    "fastest_each_event_query = pd.read_sql(fastest_each_event_query_text, con=wca_db) ## use pandas read_sql to query\n",
    "\n",
    "fastest_each_event_query = fastest_each_event_query.sort_values(by=['best']) ## sorting by 'best'\n",
    "\n",
    "fastest_each_event_query['best (in seconds)'] = fastest_each_event_query['best'] / 100 ## converting to seconds\n",
    "\n",
    "relevant_eventIds = (['222', 'magic', 'pyram', 'skewb', 'magic', 'clock', '333', 'sq1', '333oh', # eventIds to keep\n",
    "                     '333bf', '333f5', '444', 'minx', '555', '444bf', '666', '777', '555bf'])\n",
    "\n",
    "fastest_each_event_query = fastest_each_event_query[fastest_each_event_query['eventId'].isin(relevant_eventIds)]\n",
    "                                                     ## excluding egregious eventIds, unpopular & blowing up charts\n",
    "    \n",
    "fastest_each_event_query['Person name'] = fastest_each_event_query['personName'].str.split('(').str[0] ## removes possible non-utf8\n",
    "fastest_each_event_query = fastest_each_event_query[['Person name', 'personId', 'eventId', 'best', 'best (in seconds)']]\n",
    "    \n",
    "print(fastest_each_event_query)"
   ]
  },
  {
   "cell_type": "markdown",
   "metadata": {},
   "source": [
    "Holy cow, some people can solve a Rubik's Cube (er, item?) fast!"
   ]
  },
  {
   "cell_type": "markdown",
   "metadata": {},
   "source": [
    "Now, what about a visualization?"
   ]
  },
  {
   "cell_type": "code",
   "execution_count": 5,
   "metadata": {},
   "outputs": [
    {
     "data": {
      "image/png": "[encoded data removed]",
      "text/plain": [
       "<Figure size 432x288 with 1 Axes>"
      ]
     },
     "metadata": {
      "needs_background": "light"
     },
     "output_type": "display_data"
    }
   ],
   "source": [
    "fastest_each_event_query = fastest_each_event_query.sort_values(by='best (in seconds)', ascending=False) ## sort table\n",
    "\n",
    "ax = sns.barplot(x=\"best (in seconds)\", y=\"eventId\", data=fastest_each_event_query, palette=\"Blues_d\").set_title('Fastest Solves per Event')"
   ]
  },
  {
   "cell_type": "markdown",
   "metadata": {},
   "source": [
    "I grew up trying to learn to solve the 3x3x3 and it really blows my mind that the fastest solve is *3.47 seconds*. At that point, it almost seems like you know how to solve the cube before the timer starts, and it's simply a matter of how fast you can move your hands. Although I have done some reading about the infamous/famous 'layer skips' :)\n",
    "\n",
    "That's on top of folks solving cubes blindfolded, and 7x7x7 cubes, all in less than 2 mins 30 seconds. And the 2x2x2 record being 0.49 seconds? That's must be a joke."
   ]
  },
  {
   "cell_type": "markdown",
   "metadata": {},
   "source": [
    "Moving on, what about the countries which host the most WCA competitions?"
   ]
  },
  {
   "cell_type": "code",
   "execution_count": 6,
   "metadata": {},
   "outputs": [
    {
     "name": "stdout",
     "output_type": "stream",
     "text": [
      "The 10 countries which have hosted the most competitions:\n",
      "\n",
      "       Country  Total Competitions\n",
      "0          USA                1459\n",
      "1        China                 586\n",
      "2        India                 374\n",
      "3       Brazil                 292\n",
      "4       Poland                 253\n",
      "5        Spain                 207\n",
      "6       Russia                 200\n",
      "7       France                 192\n",
      "8        Japan                 189\n",
      "9  Philippines                 186\n"
     ]
    }
   ],
   "source": [
    "countries_most_comps_text = '''\n",
    "\n",
    "    select countryId as 'Country', count(*) as 'Total Competitions' from competitions\n",
    "    group by countryId\n",
    "    order by count(*) desc\n",
    "    \n",
    "'''\n",
    "\n",
    "countries_most_comps_query = pd.read_sql(countries_most_comps_text, con=wca_db) ## use pandas read_sql to query\n",
    "\n",
    "print(\"The 10 countries which have hosted the most competitions:\\n\")\n",
    "print(countries_most_comps_query[0:10])"
   ]
  },
  {
   "cell_type": "markdown",
   "metadata": {},
   "source": [
    "Interesting, but let's dig a little deeper - what if we consider competition size? Perhaps the USA only hosts very tiny competitions and is being over-represented by the current statistic.. Let's find out each competition's entrant size, and join that with the competition info table"
   ]
  },
  {
   "cell_type": "code",
   "execution_count": 7,
   "metadata": {},
   "outputs": [],
   "source": [
    "competition_sizes = '''\n",
    "\n",
    "    select competitionId as 'Competition', count(personId) as 'Entrant Size'\n",
    "    from \n",
    "        (\n",
    "            select distinct competitionId, personId\n",
    "            from results\n",
    "        ) as temp_table\n",
    "    group by competitionId\n",
    "    order by count(personId) desc\n",
    "    \n",
    "'''\n",
    "\n",
    "competition_sizes_query = pd.read_sql(competition_sizes, con=wca_db) ## use pandas read_sql to query"
   ]
  },
  {
   "cell_type": "markdown",
   "metadata": {},
   "source": [
    "Now, let's join this with the competitions table & run it again, taking the sum of entrants this time!"
   ]
  },
  {
   "cell_type": "code",
   "execution_count": 8,
   "metadata": {},
   "outputs": [
    {
     "name": "stdout",
     "output_type": "stream",
     "text": [
      "The 10 countries with the most competitions/entrants:\n",
      "\n",
      "     Country  Total Competitions  Entrant Size\n",
      "0        USA                1459      101824.0\n",
      "1      China                 586       60153.0\n",
      "2      India                 374       29088.0\n",
      "3     Poland                 253       18307.0\n",
      "4     Russia                 200       16378.0\n",
      "5     Canada                 184       15117.0\n",
      "6     Brazil                 292       14442.0\n",
      "7      Spain                 207       11977.0\n",
      "8  Australia                 171       11166.0\n",
      "9      Japan                 189       11035.0\n"
     ]
    }
   ],
   "source": [
    "countries_competitions_and_competitors_text = '''\n",
    "\n",
    "    select competitions.countryId as 'Country', count(competitions.id) as 'Total Competitions', \n",
    "        sum(tot_competitors.entrant_size) as'Entrant Size' from competitions\n",
    "    left join \n",
    "        (\n",
    "        \n",
    "    select competitionId as 'Competition', count(personId) as 'Entrant_Size'\n",
    "    from \n",
    "        (\n",
    "            select distinct competitionId, personId\n",
    "            from results\n",
    "        ) as temp_table\n",
    "    group by competitionId\n",
    "    order by count(personId) desc\n",
    "        \n",
    "        ) as tot_competitors\n",
    "    on competitions.id = tot_competitors.Competition\n",
    "    group by competitions.countryId\n",
    "    order by sum(tot_competitors.Entrant_Size) desc\n",
    "    \n",
    "'''\n",
    "\n",
    "countries_competitions_and_competitors_query = pd.read_sql(countries_competitions_and_competitors_text, con=wca_db) \n",
    "                                    ## use pandas read_sql to query\n",
    "\n",
    "print(\"The 10 countries with the most competitions/entrants:\\n\")\n",
    "print(countries_competitions_and_competitors_query[0:10])"
   ]
  },
  {
   "cell_type": "markdown",
   "metadata": {},
   "source": [
    "Let's plot these results"
   ]
  },
  {
   "cell_type": "code",
   "execution_count": 9,
   "metadata": {},
   "outputs": [
    {
     "data": {
      "text/plain": [
       "<matplotlib.axes._subplots.AxesSubplot at 0x1e84b5f8>"
      ]
     },
     "execution_count": 9,
     "metadata": {},
     "output_type": "execute_result"
    },
    {
     "data": {
      "image/png": "[encoded data removed]",
      "text/plain": [
       "<Figure size 432x288 with 2 Axes>"
      ]
     },
     "metadata": {
      "needs_background": "light"
     },
     "output_type": "display_data"
    }
   ],
   "source": [
    "countries_competitions_and_competitors_query = countries_competitions_and_competitors_query.sort_values(by='Total Competitions', ascending=False)\n",
    "\n",
    "f, axes = plt.subplots(1, 2)\n",
    "\n",
    "f.subplots_adjust(wspace=0.75)\n",
    "\n",
    "sns.barplot(  y=\"Country\", x= \"Total Competitions\", data=countries_competitions_and_competitors_query[0:10], palette=\"Blues_d\" , ax=axes[0])\n",
    "\n",
    "countries_competitions_and_competitors_query = countries_competitions_and_competitors_query.sort_values(by='Entrant Size', ascending=False)\n",
    "\n",
    "sns.barplot(  y=\"Country\", x= \"Entrant Size\", data=countries_competitions_and_competitors_query[0:10], palette=\"Blues_d\" , ax=axes[1])"
   ]
  },
  {
   "cell_type": "markdown",
   "metadata": {},
   "source": [
    "Welp, looks like the first test gave us a better indicator than imagined. USA/China/India are once again at the top! Brazil seems to have noticeably dropped a couple spots. The Philippines are nowhere to be found. Interesting."
   ]
  },
  {
   "cell_type": "markdown",
   "metadata": {},
   "source": [
    "Moving on in a tangential fashion, I wonder how many top competitors are from USA/China/India, considering those 3 are the top in terms of # of competitions as well as # of entrants.\n",
    "\n",
    "Let's first write a query to discover the most prolific competition winners in Rubik's history:"
   ]
  },
  {
   "cell_type": "code",
   "execution_count": 10,
   "metadata": {},
   "outputs": [
    {
     "name": "stdout",
     "output_type": "stream",
     "text": [
      "The 25 cubers by # of 1st place victories:\n",
      "\n",
      "                     Person name    personId         Country  Total Wins\n",
      "0                    Bence Barát  2008BARA01         Hungary         635\n",
      "1                 Feliks Zemdegs  2009ZEMD01       Australia         621\n",
      "2                Erik Akkersdijk  2005AKKE01     Netherlands         448\n",
      "3                      Mats Valk  2007VALK01     Netherlands         358\n",
      "4            Martin Vædele Egdal  2013EGDA02         Denmark         322\n",
      "5                 Michał Halczuk  2006HALC01          Poland         312\n",
      "6                       Max Park  2012PARK03             USA         297\n",
      "7              Clément Cherblanc  2014CHER05          France         278\n",
      "8         Vincent Hartanto Utomo  2010UTOM01       Indonesia         236\n",
      "9   Carlos Méndez García-Barroso  2010GARC02           Spain         231\n",
      "10                     Dan Cohen  2007COHE01             USA         231\n",
      "11                    Robert Yau  2009YAUR01  United Kingdom         225\n",
      "12                Jayden McNeill  2012MCNE01       Australia         223\n",
      "13               Sebastian Weyer  2010WEYE02         Germany         220\n",
      "14                 Daniel Wallin  2013WALL03          Sweden         214\n",
      "15                  Rowe Hessler  2007HESS01             USA         205\n",
      "16            Bhargav Narasimhan  2011NARA02           India         202\n",
      "17                    Yi-Fan Wu   2010WUIF01          Taiwan         202\n",
      "18           Henrik Buus Aagaard  2006BUUS01         Denmark         202\n",
      "19                  Jan Bentlage  2010BENT01         Germany         201\n",
      "20                   Kaijun Lin   2013LINK01           China         190\n",
      "21                    Kevin Hays  2009HAYS01             USA         188\n",
      "22                Antoine Cantin  2010CANT02          Canada         186\n",
      "23                Niko Ronkainen  2010RONK01         Finland         184\n",
      "24                      Evan Liu  2009LIUE01             USA         184\n"
     ]
    }
   ],
   "source": [
    "top_wins_all_comps = '''\n",
    "\n",
    "    select temp.personName as 'Person', temp.personId, temp.countryId as 'Country', \n",
    "        count(temp.personName) as 'Total Wins' from\n",
    "        (\n",
    "            select * from results\n",
    "            left join persons\n",
    "            on results.personId = persons.id\n",
    "        ) as temp\n",
    "    where temp.pos = '1'\n",
    "    and temp.subid = '1'\n",
    "    and (temp.roundTypeId = 'c' or temp.roundTypeId = 'f')\n",
    "    group by temp.personId\n",
    "    order by count(temp.personName) desc\n",
    "    \n",
    "'''\n",
    "\n",
    "top_wins_all_comps_df = pd.read_sql(top_wins_all_comps, con=wca_db) ## use pandas read_sql to query\n",
    "\n",
    "top_wins_all_comps_df['Person name'] = top_wins_all_comps_df['Person'].str.split('(').str[0] ## removes possible non-utf8\n",
    "top_wins_all_comps_df = top_wins_all_comps_df[['Person name', 'personId', 'Country', 'Total Wins']]\n",
    "\n",
    "print(\"The 25 cubers by # of 1st place victories:\\n\")\n",
    "print(top_wins_all_comps_df[0:25])"
   ]
  },
  {
   "cell_type": "markdown",
   "metadata": {},
   "source": [
    "Of course, # of 1st place victories is not a direct correlation to Rubik's skill, but based on this information I am a bit surprised at the spread! There's a handful of USA, but nearly no China/India. On the other hand there are more Germany & Netherlands than I expected."
   ]
  },
  {
   "cell_type": "markdown",
   "metadata": {},
   "source": [
    "And drilling down a bit deeper, who are the most prolific 3x3x3 Rubik's Competition winners in WCA history?"
   ]
  },
  {
   "cell_type": "code",
   "execution_count": 11,
   "metadata": {},
   "outputs": [
    {
     "name": "stdout",
     "output_type": "stream",
     "text": [
      "The 25 3x3x3 cubers by # of 1st place victories:\n",
      "\n",
      "                     Person name    personId      Country  Total Wins\n",
      "0                 Feliks Zemdegs  2009ZEMD01    Australia          99\n",
      "1                      Mats Valk  2007VALK01  Netherlands          81\n",
      "2                       Max Park  2012PARK03          USA          69\n",
      "3                 Anthony Brooks  2008SEAR01          USA          58\n",
      "4              Michał Pleskowicz  2009PLES01       Poland          54\n",
      "5                    Jiayu Wang   2010WANG53        China          53\n",
      "6                Erik Akkersdijk  2005AKKE01  Netherlands          48\n",
      "7   Carlos Méndez García-Barroso  2010GARC02        Spain          46\n",
      "8            Cornelius Dieckmann  2009DIEC01      Germany          45\n",
      "9                   Rowe Hessler  2007HESS01          USA          44\n",
      "10                  Dylan Miller  2015MILL01          USA          44\n",
      "11                 Philipp Weyer  2010WEYE01      Germany          43\n",
      "12                 Patrick Ponce  2012PONC02          USA          42\n",
      "13              Tomasz Żołnowski  2005ZOLN01       Poland          41\n",
      "14              Arifumi Fushimi   2009FUSH01        Japan          41\n",
      "15                    Yi-Fan Wu   2010WUIF01       Taiwan          40\n",
      "16                    Mulun Yin   2009YINM01        China          37\n",
      "17           Martin Vædele Egdal  2013EGDA02      Denmark          37\n",
      "18               Sebastian Weyer  2010WEYE02      Germany          37\n",
      "19        Ernesto Gutiérrez Cuba  2011CUBA02         Peru          36\n",
      "20              Dmitry Dobrjakov  2011DOBR01       Russia          35\n",
      "21                  Akash Rupela  2012RUPE01        India          35\n",
      "22               Michał Rzewuski  2014RZEW01       Poland          33\n",
      "23             Christopher Olson  2009OLSO01          USA          31\n",
      "24                 Vijay Kishore  2012KISH03        India          31\n"
     ]
    }
   ],
   "source": [
    "top_wins_333 = '''\n",
    "    \n",
    "    select temp.personName as 'Person', temp.personId, temp.countryId as 'Country', \n",
    "        count(temp.personName) as 'Total Wins' from\n",
    "        (\n",
    "            select * from results\n",
    "            left join persons\n",
    "            on results.personId = persons.id\n",
    "        ) as temp\n",
    "    where temp.pos = '1'\n",
    "    and temp.eventId = '333'\n",
    "    and temp.subid = '1'\n",
    "    and (temp.roundTypeId = 'c' or temp.roundTypeId = 'f')\n",
    "    group by temp.personId\n",
    "    order by count(temp.personName) desc\n",
    "    \n",
    "'''\n",
    "\n",
    "top_wins_333_df = pd.read_sql(top_wins_333, con=wca_db) ## use pandas read_sql to query\n",
    "\n",
    "top_wins_333_df['Person name'] = top_wins_333_df['Person'].str.split('(').str[0] ## removes possible non-utf8\n",
    "top_wins_333_df = top_wins_333_df[['Person name', 'personId', 'Country', 'Total Wins']]\n",
    "\n",
    "print(\"The 25 3x3x3 cubers by # of 1st place victories:\\n\")\n",
    "print(top_wins_333_df[0:25])"
   ]
  },
  {
   "cell_type": "markdown",
   "metadata": {},
   "source": [
    "And for fun, how about a chart of the top 10:"
   ]
  },
  {
   "cell_type": "code",
   "execution_count": 12,
   "metadata": {},
   "outputs": [
    {
     "data": {
      "text/plain": [
       "Text(0.5, 1.0, 'Most 3x3x3 Competition Wins')"
      ]
     },
     "execution_count": 12,
     "metadata": {},
     "output_type": "execute_result"
    },
    {
     "data": {
      "image/png": "[encoded data removed]",
      "text/plain": [
       "<Figure size 432x288 with 1 Axes>"
      ]
     },
     "metadata": {
      "needs_background": "light"
     },
     "output_type": "display_data"
    }
   ],
   "source": [
    "ax = sns.barplot(x=\"Total Wins\", y=\"Person name\", data=top_wins_333_df[0:10], palette=\"Blues_d\")\n",
    "ax.set_title('Most 3x3x3 Competition Wins')"
   ]
  },
  {
   "cell_type": "markdown",
   "metadata": {},
   "source": [
    "Distribution of Top 25 Rubik's solvers over world countries:"
   ]
  },
  {
   "cell_type": "code",
   "execution_count": 13,
   "metadata": {},
   "outputs": [
    {
     "name": "stdout",
     "output_type": "stream",
     "text": [
      "        Country  Person name\n",
      "12          USA            6\n",
      "3       Germany            3\n",
      "8        Poland            3\n",
      "1         China            2\n",
      "4         India            2\n",
      "6   Netherlands            2\n",
      "0     Australia            1\n",
      "2       Denmark            1\n",
      "5         Japan            1\n",
      "7          Peru            1\n",
      "9        Russia            1\n",
      "10        Spain            1\n",
      "11       Taiwan            1\n"
     ]
    }
   ],
   "source": [
    "tot_333_winners_country = top_wins_333_df[['Country', 'Person name']][0:25].groupby('Country').agg('count').reset_index()\n",
    "print(tot_333_winners_country.sort_values(by='Person name', ascending=False))\n",
    "\n",
    "tot_333_winners_country = tot_333_winners_country.sort_values(by='Person name', ascending=False)"
   ]
  },
  {
   "cell_type": "markdown",
   "metadata": {},
   "source": [
    "Visualized"
   ]
  },
  {
   "cell_type": "code",
   "execution_count": 14,
   "metadata": {},
   "outputs": [
    {
     "data": {
      "text/plain": [
       "Text(0, 0.5, 'Country')"
      ]
     },
     "execution_count": 14,
     "metadata": {},
     "output_type": "execute_result"
    },
    {
     "data": {
      "image/png": "[encoded data removed]",
      "text/plain": [
       "<Figure size 432x288 with 1 Axes>"
      ]
     },
     "metadata": {
      "needs_background": "light"
     },
     "output_type": "display_data"
    }
   ],
   "source": [
    "ax = sns.barplot(x=\"Person name\", y=\"Country\", data=tot_333_winners_country, palette=\"Blues_d\")\n",
    "\n",
    "ax.set_title('3x3x3 Winner-count by Country')\n",
    "ax.set_xlabel('Person count')\n",
    "ax.set_ylabel('Country')"
   ]
  },
  {
   "cell_type": "markdown",
   "metadata": {},
   "source": [
    "And finally, let's take a look at the history of 3x3x3 competition winners!"
   ]
  },
  {
   "cell_type": "code",
   "execution_count": 15,
   "metadata": {},
   "outputs": [
    {
     "name": "stdout",
     "output_type": "stream",
     "text": [
      "              Person name       date  best (in seconds)\n",
      "0             Dan Knights 2003-08-24              18.76\n",
      "1         Ron van Bruchem 2003-10-11              18.65\n",
      "2       Shotaro Makisumi  2004-01-24              14.76\n",
      "3       Shotaro Makisumi  2004-04-03              12.11\n",
      "4         Thomas Templier 2004-04-16              18.84\n",
      "...                   ...        ...                ...\n",
      "6637         Yiheng Wang  2021-01-03               5.79\n",
      "6638          Jiazhou Li  2021-01-03               6.65\n",
      "6639  Adrien Auvray Matyn 2021-01-09               7.48\n",
      "6640          Zijian Cai  2021-01-09               6.46\n",
      "6641       Xianjing Wang  2021-01-09               7.24\n",
      "\n",
      "[6642 rows x 3 columns]\n"
     ]
    }
   ],
   "source": [
    "query_text = '''\n",
    "\n",
    "    select results.personName, results.best, competitions.year, competitions.month, competitions.endDay\n",
    "    from results \n",
    "    left join competitions\n",
    "    on results.competitionId = competitions.id\n",
    "    where results.eventId = '333'\n",
    "    and (results.roundTypeId = 'c' or results.roundTypeId = 'f')\n",
    "    and results.pos = '1'\n",
    "    and results.best > '0'\n",
    "    and competitions.year <> '1982'\n",
    "\n",
    "'''\n",
    "\n",
    "query_df = pd.read_sql(query_text, con=wca_db) ## read query\n",
    "\n",
    "query_df['date'] = query_df['month'].map(str) + '/' + query_df['endDay'].map(str) + '/' + query_df['year'].map(str) ## format date stuff\n",
    "query_df['date'] = pd.to_datetime(query_df['date'])\n",
    "\n",
    "query_df = query_df.sort_values(by=['date']) ## sorting & dropping index\n",
    "query_df = query_df.reset_index(drop=True)\n",
    "\n",
    "query_df['best (in seconds)'] = query_df['best'] / 100\n",
    "\n",
    "query_df['Person name'] = query_df['personName'].str.split('(').str[0] ## removes possible non-utf8\n",
    "df_for_visual = query_df[['Person name', 'date', 'best (in seconds)']]\n",
    "\n",
    "print(df_for_visual)"
   ]
  },
  {
   "cell_type": "markdown",
   "metadata": {},
   "source": [
    "Dataframe = prepared, let's visualize!"
   ]
  },
  {
   "cell_type": "code",
   "execution_count": 16,
   "metadata": {},
   "outputs": [
    {
     "data": {
      "text/plain": [
       "Text(0, 0.5, 'Time (seconds)')"
      ]
     },
     "execution_count": 16,
     "metadata": {},
     "output_type": "execute_result"
    },
    {
     "data": {
      "image/png": "[encoded data removed]",
      "text/plain": [
       "<Figure size 1008x504 with 1 Axes>"
      ]
     },
     "metadata": {
      "needs_background": "light"
     },
     "output_type": "display_data"
    }
   ],
   "source": [
    "plt.figure(figsize=(14, 7))\n",
    "\n",
    "ax = sns.scatterplot(data=df_for_visual, x=\"date\", y=\"best (in seconds)\", linewidth=0, alpha=0.6)\n",
    "\n",
    "ax.set_xlim(df_for_visual['date'].min(), df_for_visual['date'].max())\n",
    "\n",
    "ax.set_title('3x3x3 Competition Winners solve times', fontsize=25)\n",
    "ax.set_xlabel('Date', fontsize=16)\n",
    "ax.set_ylabel(\"Time (seconds)\",fontsize=16)"
   ]
  },
  {
   "cell_type": "markdown",
   "metadata": {},
   "source": [
    "Dang, if I had any hope for entering these competitions, that has surely been crushed.\n",
    "\n",
    "Also interesting is the gap between April & July 2020, which I have to assume is due to COVID-19 restrictions."
   ]
  },
  {
   "cell_type": "markdown",
   "metadata": {},
   "source": [
    "Thanks for coming along for this rough analysis :) I hope you learned something, or at least had fun!"
   ]
  },
  {
   "cell_type": "code",
   "execution_count": null,
   "metadata": {},
   "outputs": [],
   "source": []
  }
 ],
 "metadata": {
  "kernelspec": {
   "display_name": "Python 3",
   "language": "python",
   "name": "python3"
  },
  "language_info": {
   "codemirror_mode": {
    "name": "ipython",
    "version": 3
   },
   "file_extension": ".py",
   "mimetype": "text/x-python",
   "name": "python",
   "nbconvert_exporter": "python",
   "pygments_lexer": "ipython3",
   "version": "3.8.2"
  }
 },
 "nbformat": 4,
 "nbformat_minor": 4
}
